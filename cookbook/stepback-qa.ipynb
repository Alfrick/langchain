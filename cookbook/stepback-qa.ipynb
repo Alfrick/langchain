{
 "cells": [
  {
   "cell_type": "code",
   "execution_count": 1,
   "id": "9ab141b6",
   "metadata": {},
   "outputs": [],
   "source": [
    "from langchain.chat_models import ChatAnthropic\n",
    "from langchain.prompts import ChatPromptTemplate\n",
    "from langchain.schema.output_parser import StrOutputParser"
   ]
  },
  {
   "cell_type": "code",
   "execution_count": 7,
   "id": "bf81f9ca",
   "metadata": {},
   "outputs": [],
   "source": [
    "prompt = ChatPromptTemplate.from_messages([\n",
    "    (\"system\", \"\"\"You are an expert at world knowledge. Your task is to step back and paraphrase a question to a more generic step-back question, which is easier to answer. Here are a few examples:\"\"\"),\n",
    "    (\"user\", \"Could the members of The Police perform lawful arrests?\"),\n",
    "    (\"assistant\", \"what can the members of The Police do?\"),\n",
    "    (\"user\", \"Jan Sindel’s was born in what country?\"),\n",
    "    (\"assistant\", \"what is Jan Sindel’s personal history?\"),\n",
    "    (\"user\", \"{question}\"),\n",
    "])"
   ]
  },
  {
   "cell_type": "code",
   "execution_count": 8,
   "id": "3e85449e",
   "metadata": {},
   "outputs": [],
   "source": [
    "question_gen = prompt | ChatAnthropic() | StrOutputParser()"
   ]
  },
  {
   "cell_type": "code",
   "execution_count": 9,
   "id": "f85f7390",
   "metadata": {},
   "outputs": [
    {
     "data": {
      "text/plain": [
       "' What are the differences between langchain and langsmith?'"
      ]
     },
     "execution_count": 9,
     "metadata": {},
     "output_type": "execute_result"
    }
   ],
   "source": [
    "question_gen.invoke({\"question\":\"how is langchain different than langsmith?\"})"
   ]
  },
  {
   "cell_type": "code",
   "execution_count": 11,
   "id": "b634b21b",
   "metadata": {},
   "outputs": [],
   "source": [
    "from langchain.retrievers.you import YouRetriever"
   ]
  },
  {
   "cell_type": "code",
   "execution_count": 12,
   "id": "b2c5b7d0",
   "metadata": {},
   "outputs": [],
   "source": [
    "retriver = YouRetriever(ydc_api_key=)"
   ]
  },
  {
   "cell_type": "code",
   "execution_count": 19,
   "id": "c9eaa128",
   "metadata": {},
   "outputs": [],
   "source": [
    "response_prompt_template = \"\"\"You are an expert of world knowledge. I am going to ask you a question. Your response should be comprehensive and not contradicted with the following context if they are relevant. Otherwise, ignore them if they are not relevant.\n",
    "\n",
    "{normal_context}\n",
    "{step_back_context}\n",
    "\n",
    "Original Question: {question}\n",
    "Answer:\"\"\"\n",
    "response_prompt = ChatPromptTemplate.from_template(response_prompt_template)"
   ]
  },
  {
   "cell_type": "code",
   "execution_count": 24,
   "id": "40a50d2e",
   "metadata": {},
   "outputs": [],
   "source": [
    "chain = {\n",
    "    \"normal_context\": (lambda x: x['question']) | retriver | (lambda x: x[:3]),\n",
    "    \"step_back_context\": question_gen | retriver | (lambda x: x[:3]),\n",
    "    \"question\": lambda x: x[\"question\"]\n",
    "} | response_prompt | ChatAnthropic() | StrOutputParser()"
   ]
  },
  {
   "cell_type": "code",
   "execution_count": 25,
   "id": "07e85312",
   "metadata": {},
   "outputs": [
    {
     "data": {
      "text/plain": [
       "\" Based on the provided context, there is no direct evidence that the anchors on Rede Globo speak Chinese. However, some key points from the context:\\n\\n- Rede Globo is a major Brazilian television network, owned by Grupo Globo. \\n\\n- The context documents discuss Rede Globo's programming and history, but do not mention the language abilities of its anchors.\\n\\n- As a Brazilian television network, it is likely that Portuguese is the main language used by Rede Globo anchors. \\n\\n- There is no indication in the provided background information that Rede Globo produces Chinese language content or specifically employs anchors that speak Chinese.\\n\\nSo in summary, while it is possible some Rede Globo anchors may speak Chinese, there is no direct evidence for this based on the context provided. The main language used on the network is likely Portuguese given its Brazilian origins and audience. Unless specified otherwise, it is unlikely its anchors would need to speak Chinese for their regular presenting duties.\""
      ]
     },
     "execution_count": 25,
     "metadata": {},
     "output_type": "execute_result"
    }
   ],
   "source": [
    "chain.invoke({\"question\": \"Do the anchors on Rede Globo speak Chinese?\"})"
   ]
  },
  {
   "cell_type": "code",
   "execution_count": null,
   "id": "41df0eb7",
   "metadata": {},
   "outputs": [],
   "source": []
  }
 ],
 "metadata": {
  "kernelspec": {
   "display_name": "Python 3 (ipykernel)",
   "language": "python",
   "name": "python3"
  },
  "language_info": {
   "codemirror_mode": {
    "name": "ipython",
    "version": 3
   },
   "file_extension": ".py",
   "mimetype": "text/x-python",
   "name": "python",
   "nbconvert_exporter": "python",
   "pygments_lexer": "ipython3",
   "version": "3.10.1"
  }
 },
 "nbformat": 4,
 "nbformat_minor": 5
}
